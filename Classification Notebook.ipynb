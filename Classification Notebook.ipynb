{
 "cells": [
  {
   "cell_type": "markdown",
   "metadata": {},
   "source": [
    "## Notebook to run the classification\n",
    "### 1. Loading necessary imports"
   ]
  },
  {
   "cell_type": "code",
   "execution_count": 3,
   "metadata": {},
   "outputs": [],
   "source": [
    "from __future__ import absolute_import\n",
    "from __future__ import division\n",
    "from __future__ import print_function\n",
    "import sys\n",
    "from classifier import training"
   ]
  },
  {
   "cell_type": "markdown",
   "metadata": {},
   "source": [
    "### 2. Running the training"
   ]
  },
  {
   "cell_type": "code",
   "execution_count": 4,
   "metadata": {
    "scrolled": true
   },
   "outputs": [
    {
     "name": "stdout",
     "output_type": "stream",
     "text": [
      "Training Start\n",
      "Classes: 8\n",
      "Images: 271\n",
      "Model filename: ./model/20170511-185253.pb\n",
      "WARNING:tensorflow:From C:\\Users\\Tanush Pas\\Desktop\\Tanush Projects\\Facenet-Real-time-face-recognition-using-deep-learning-Tensorflow-master\\facenet.py:377: FastGFile.__init__ (from tensorflow.python.platform.gfile) is deprecated and will be removed in a future version.\n",
      "Instructions for updating:\n",
      "Use tf.gfile.GFile.\n",
      "Extracting features of images for model\n",
      "Training Started\n",
      "Saved classifier model to file \"./class/classifier.pkl\"\n"
     ]
    },
    {
     "ename": "SystemExit",
     "evalue": "All Done",
     "output_type": "error",
     "traceback": [
      "An exception has occurred, use %tb to see the full traceback.\n",
      "\u001b[1;31mSystemExit\u001b[0m\u001b[1;31m:\u001b[0m All Done\n"
     ]
    },
    {
     "name": "stderr",
     "output_type": "stream",
     "text": [
      "C:\\Users\\Tanush Pas\\AppData\\Local\\conda\\conda\\envs\\py36\\lib\\site-packages\\IPython\\core\\interactiveshell.py:3275: UserWarning: To exit: use 'exit', 'quit', or Ctrl-D.\n",
      "  warn(\"To exit: use 'exit', 'quit', or Ctrl-D.\", stacklevel=1)\n"
     ]
    }
   ],
   "source": [
    "datadir = './pre_img'\n",
    "modeldir = './model/20170511-185253.pb'\n",
    "classifier_filename = './class/classifier.pkl'\n",
    "print (\"Training Start\")\n",
    "obj=training(datadir,modeldir,classifier_filename)\n",
    "get_file=obj.main_train()\n",
    "print('Saved classifier model to file \"%s\"' % get_file)\n",
    "sys.exit(\"All Done\")"
   ]
  }
 ],
 "metadata": {
  "kernelspec": {
   "display_name": "Python 3",
   "language": "python",
   "name": "python3"
  },
  "language_info": {
   "codemirror_mode": {
    "name": "ipython",
    "version": 3
   },
   "file_extension": ".py",
   "mimetype": "text/x-python",
   "name": "python",
   "nbconvert_exporter": "python",
   "pygments_lexer": "ipython3",
   "version": "3.6.6"
  }
 },
 "nbformat": 4,
 "nbformat_minor": 2
}
